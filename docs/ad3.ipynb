{
 "cells": [
  {
   "cell_type": "markdown",
   "id": "f99f2020",
   "metadata": {},
   "source": [
    "# Scraping de una web - AD3\n",
    "## Lina Vargas Vega \n",
    "<br>\n",
    "Máster periodismo digital y de datos \n",
    "<br>"
   ]
  },
  {
   "cell_type": "markdown",
   "id": "9290c110",
   "metadata": {},
   "source": [
    "## Importar librerías "
   ]
  },
  {
   "cell_type": "code",
   "execution_count": null,
   "id": "e857ede0",
   "metadata": {},
   "outputs": [],
   "source": [
    "import requests\n",
    "import time\n",
    "import csv\n",
    "import re\n",
    "from bs4 import BeautifulSoup\n",
    "import os\n",
    "import pandas as pd\n",
    "from termcolor import colored"
   ]
  },
  {
   "cell_type": "markdown",
   "id": "820150a9",
   "metadata": {},
   "source": [
    "## Variables \n",
    "Vamos a crear una variable tipo lista ([]) para organizar los resultados de nuestra búsqueda. En este caso la llamaremos 'resultados'"
   ]
  },
  {
   "cell_type": "code",
   "execution_count": 9,
   "id": "0fc05a4c",
   "metadata": {},
   "outputs": [],
   "source": [
    "resultados = []"
   ]
  },
  {
   "cell_type": "markdown",
   "id": "390cdf1e",
   "metadata": {},
   "source": [
    "## ¿De dónde vendrán los resultados?\n",
    "Ahora, es momento de decirle a jupyter de dónde obtendrá los resultados que buscamos. Esto lo hacemos con la librería requests, que ya importamos, y la función get. A este llamado lo vamos a denominar req de ahora en adelante. También hay que escribir el link apropiado de la web donde vamos a indagar. Además le diremos que traiga solo los recultados con código 200 que son los  satisfactorios.\n"
   ]
  },
  {
   "cell_type": "code",
   "execution_count": 14,
   "id": "c7cfe5ac",
   "metadata": {},
   "outputs": [],
   "source": [
    "req = requests.get(\"https://resultados.elpais.com\")\n",
    "# Si el estatus code no es 200 no se puede leer la página\n",
    "if (req.status_code != 200):\n",
    " raise Exception(\"No se puede hacer Web Scraping en\"+ URL)"
   ]
  },
  {
   "cell_type": "markdown",
   "id": "535f58b5",
   "metadata": {},
   "source": [
    "## BeautifulSoup\n",
    "\n",
    "Esta libereía nos ayudará a trae, pulir y organizar en una lista los archivos HTML que le indiquemos de la web de El País, en este caso. Con  la ayuda de la función findAll de esta librería traeremos todos los h2 -pues así El País denomina sus titulares- a este documento."
   ]
  },
  {
   "cell_type": "code",
   "execution_count": 16,
   "id": "6321c150",
   "metadata": {},
   "outputs": [],
   "source": [
    "soup = BeautifulSoup(req.text, 'html.parser')\n",
    "\n",
    "tags = soup.findAll(\"h2\")"
   ]
  },
  {
   "cell_type": "markdown",
   "id": "f51a7ff9",
   "metadata": {},
   "source": [
    "Con la siguiente indicación le diremos que por cada h2 que salga en los tags nos devuelva un texto, es decir el titular. Al ejecutar esta acción ya tendremos el resultado final."
   ]
  },
  {
   "cell_type": "code",
   "execution_count": 17,
   "id": "8f9a9938",
   "metadata": {},
   "outputs": [
    {
     "name": "stdout",
     "output_type": "stream",
     "text": [
      "El Mundial, en vivo\n",
      "Universo Mundial\n",
      "El calendario a seguir desde América\n",
      "¿Quién va a ganar? Simulador y pronóstico de cada selección \n",
      "La ‘newsletter’\n",
      "Nicolás Maduro condiciona la celebración de elecciones libres al levantamiento de sanciones\n",
      "La prohibición del maíz transgénico abre un nuevo foco de tensión entre Estados Unidos y México\n",
      "Superviviente de una mara hondureña: “No me enteré de que a mi hija la habían violado a punta de pistola hasta que salimos del país”\n",
      "Video | ¿Qué hay en la cabeza de un soldado ucranio? Estas son sus heridas mentales\n",
      "El historiador Serhii Plokhy: “El destino de la guerra está claro: Rusia se debilita y Ucrania será independiente”\n",
      "España se ve lanzada  \n",
      "¡Viva mi desgracia!\n",
      "Sí, se puede ser feliz por una clasificación a octavos de final\n",
      "Y una tarde, los argentinos recuperaron la alegría\n",
      "Un barrio popular, un partido de México a pie de calle y la rutina de la derrota \n",
      "Elon Musk asegura que en seis meses se implantará el primer chip en un cerebro humano\n",
      "Video | Crea un lector y tendrás un comprador\n",
      "Cecilia Vicuña: “Siempre fui catalogada de ridícula porque sabía que había que plantar bosques”\n",
      "Daniela Tarazona: “No soy una escritora ejemplar. Me he empeñado en desobedecer”\n",
      "El desafío de envejecer con VIH: “Las personas de largo recorrido sufrimos depresión, ansiedad y deterioro cognitivo”\n",
      "Pacientes de VIH contra Guatemala: “Si fuera por el Estado, estaríamos muertos”\n",
      "La deforestación de la Amazonia cae un 11% en el último balance anual de la era Bolsonaro\n",
      "Arranca la legislatura en Quebec sin los diputados que rehusaron prestar juramento al rey Carlos III\n",
      "‘As bestas’, de Rodrigo Sorogoyen, lidera la carrera a los Premios Goya 2023 con 17 nominaciones\n",
      "Cómo detectar un ataque de ansiedad y qué hacer frente a él\n",
      "Hallan en Transilvania una nueva especie de dinosaurio enano herbívoro que vivió hace 70 millones de años\n",
      "A Juan Luis Guerra se le sube la bilirrubina\n",
      "Ideas de regalos para el jardinero\n",
      "Guía de regalos para el ‘foodie’\n",
      "La FIL, fobias y filias\n",
      "Estamos jodidos\n",
      "Carta de socorro\n",
      "Las píldoras de Enzensberger\n",
      "La historia de una niña que soñó con ser pianista\n",
      "Pon nombre a lo que te pasa para sentirte mejor\n",
      "Volver a empezar\n",
      "Alemania suaviza su ley de inmigración para atraer trabajadores extranjeros de fuera de la Unión Europea\n",
      "Hungría evita la confrontación con la Comisión Europea y confía en desbloquear los fondos en 2023\n",
      "Al menos 30 desaparecidos tras un deslizamiento de tierra en el sur de Brasil  \n",
      "El número de españoles en cárceles extranjeras repunta un 15% tras el fin de la pandemia\n",
      "Quince periodistas e integrantes de ‘El Faro’ demandan al fabricante del software espía Pegasus \n",
      "Las islas del Caribe colombiano que desaparecen por el cambio climático\n",
      "‘Que sepan que sabemos’: traducen los megaproyectos de López Obrador a lenguas indígenas\n",
      "América Latina puede convertirse en un referente mundial de la transición energética justa\n",
      "‘Mujeres de armas tomar’: la historia de la víctima, que desesperada por justicia, se vengó de sus violadores\n",
      "La respuesta a la guerra en Ucrania también es literaria\n",
      "Felix Klieser: un virtuoso de la trompa (sin brazos)\n",
      "De piezas aztecas a teotihuacanas: México busca detener una subasta de 85 objetos arqueológicos en Francia\n",
      "Una investigación saca a la luz 170 escritos inéditos del poeta español Miguel Hernández\n",
      "¿Selfie sí o selfie no en Art Basel?\n",
      "De las galerías a las calles: así se hizo importante Miami para el arte del mundo\n",
      "Spotify Wrapped, el selfi musical que monopoliza la conversación en Twitter y acaricia el ego\n",
      "Al norte del Norte: por la remota Ruta de la Costa Ártica de Islandia \n",
      "Series de diciembre de 2022: ‘Alice in Borderland’, ‘Fácil’ y otros estrenos\n",
      "Aló Comidista: “Si dejas la piña boca abajo, ¿se pone más dulce?”\n",
      "La tragedia en la frontera de Melilla: el papel de Marruecos y España en las muertes del 24-J\n",
      "Un tatuaje y un bebé en el nombre de Mircea Cărtărescu\n",
      "‘Argentina, 1985’, un debate nacional entre la ficción y la memoria\n",
      "Madrid, la nueva Miami: así se han hecho con la capital española los ricos latinoamericanos\n",
      "Qatar 2022, el único Mundial donde es posible ver dos partidos en un mismo día\n",
      "¿Qué estrella tuvo el mejor debut en el Mundial? El ‘tier list’ de Jesús Gallego, Bruno Alemany y Aritz Gabilondo\n",
      "Enredados en el Mundial | Los jugadores iraníes vuelven a cantar el himno y ha nacido una estrella en EE UU\n",
      "Venezuela tiene escasez de sacerdotes\n",
      "Puerto Rico lucha por mantener sus playas públicas\n",
      "Tres claves para entender las protestas por el censo en Bolivia\n",
      "Breast cancer expert: ‘Public health is decided at the polls’\n",
      "The unfortunate case of Anne Hathaway, or why we hate some female celebrities for no reason\n",
      "Why does finding a partner seem impossible these days?\n",
      "Ukraine’s farm of horrors: 2,000 dead cows and fields of anti-tank mines \n",
      "Americanas: Reportajes y noticias sobre feminismo e historias con enfoque de género de la región\n",
      "Toda la actualidad científica en el boletín de Materia\n",
      "Letras Americanas: la actualidad literaria de un continente vista por el escritor Emiliano Monge\n",
      "Ideas: reportajes y entrevistas para entender el mundo\n",
      "El Kremlin silencia el dolor de las mujeres rusas que critican la guerra de Ucrania \n",
      "El primer ministro de Rumania: “Necesitamos un esfuerzo común en la OTAN para defender cada centímetro de territorio frente a Rusia”  \n",
      "La justicia investiga si el Gobierno de Macron favoreció a consultoras privadas en las dos últimas campañas presidenciales en Francia\n",
      "Aquí puede buscar si ha sido engañado por la estafa internacional de las criptomonedas\n",
      "El secreto de la pirámide\n",
      "El futuro de las compras: más redes sociales, pago a plazos y vuelta de la tienda física\n",
      " El Papa detecta fallos en Caritas Internationalis y cesa a sus responsables \n",
      "La Iglesia italiana da por primera vez cifras de los abusos cometidos por el clero\n",
      "El Senado de EE UU da un paso clave para blindar el matrimonio homosexual frente al Supremo\n",
      "Muere Hans Magnus Enzensberger, gran intelectual alemán del siglo XX\n",
      "‘Close’, una mirada conmovedora a la fragilidad de la preadolescencia\n",
      "La gran retrospectiva de Vermeer en Ámsterdam aviva la polémica sobre la autoría de ‘Muchacha con flauta’\n",
      "75 años de la muerte de G.H. Hardy, un matemático excéntrico y brillante\n",
      "Hallan en Transilvania una nueva especie de dinosaurio enano herbívoro que vivió hace 70 millones de años\n",
      "Un fármaco experimental contra el alzhéimer confirma efectos positivos, pero puede estar detrás de la muerte de dos pacientes \n",
      "Más dunas y más arena: el Dakar 2023 aumenta la complejidad del recorrido\n",
      "Jugar para tu país\n",
      "‘Mi tío Ricardo y la antena de la tele’, por Rafa Cabeleira\n",
      "La prohibición del maíz transgénico abre un nuevo foco de tensión entre EE UU y México\n",
      "Un plan de choque de 356 millones para intentar salvar Doñana de su creciente declive \n",
      "Portugal, el secreto de un país sin bicicletas que se convirtió en el mayor fabricante europeo\n",
      "Ronna, ronto, quetta y quecto, los nuevos prefijos para magnitudes extraordinarias\n",
      "La Policía de San Francisco contará con robots con capacidad de matar\n",
      "Damian Burns, director de Twitch Europa: “No me importaría que mi hija fuera ‘streamer’”\n",
      "El tiempo en el puente de diciembre: primero frío y, después, lluvias generalizadas\n",
      "Defensa invertirá 80 millones en su futuro Sistema de Combate en el Ciberespacio\n",
      "Xavier Trias ficha a Alsina, Calvet y Tremosa para la candidatura de Junts al Ayuntamiento de Barcelona\n",
      "Borja Cobeaga: “Tardé más en sacarme el carné que en hacer esta serie”\n",
      "‘El presidente: juego de la corrupción’, los entresijos del fútbol’, por Ángel Sánchez-Harguindey\n",
      "Radiografía de ‘El hormiguero’: entretenimiento blanco de éxito… y polémicas por machismo\n",
      "Windsor desvela su decoración navideña en las primeras festividades sin Isabel II y con Carlos III como rey\n",
      "Camila y los 1.000 osos Paddington: la reina entrega a una ONG infantil los peluches en homenaje a Isabel II\n",
      "Stallone vs. Schwarzenegger, la “competición” eterna: “Éramos antagonistas. Soñaba con pegarle y él con pegarme a mí”\n",
      "Muchos hombres, una sola mujer\n",
      "El misterio de Manuel Carrasco: cómo salir de una barriada de pescadores y acabar siendo un cantante que llena estadios\n",
      "La polarización es como las drogas: engancha\n",
      "Descansar está mal visto: el arte perdido del reposo\n",
      "Madrid, la nueva Miami: así se han hecho con la capital los ricos latinoamericanos\n",
      "Si no tiene ahorros, esta es una de las pocas alternativas para comprar casa\n",
      "Roe Ethridge, el fructífero intercambio entre el arte y el comercio\n",
      "‘La última vez’, de Guillermo Martínez: un laberinto con final milagrosamente imprevisible\n",
      "La economía solidaria: un nuevo modelo financiero contra la desigualdad y la emergencia climática\n",
      "Alima tiene bronquiolitis, pero no hay oxígeno para evitar su asfixia en el hospital de Etiopía\n",
      "Oyambre, Son Bou y otras nueve playas españolas para un baño de historia\n",
      "Cómo actuar ante el caos de los aeropuertos: qué hacer frente a retrasos y cancelaciones de un vuelo\n",
      "El lamentable caso de Anne Hathaway o por qué se odia a algunas famosas sin justificación ninguna\n",
      "Samantha Hudson: “Me va bien económicamante, pero no soy Paula Echevarría”\n",
      "“Tobogán de piojos”, “genocida de oxígeno”... Por qué cada Mundial recuerda el poderío del español como idioma para insultar\n",
      "Alejandro Jato, el actor que será Camilo Sesto: “Da pena la imagen que los jóvenes tienen de él, con lo grande que fue”\n",
      "Lentejas con gambas\n",
      "¿Son saludables todas las conservas de verduras y legumbres?\n",
      "Hildalgo pide más dinero por Air Europa y retrasa la venta\n",
      "El emotivo mensaje de un padre a los médicos que salvaron a su hijo: “Me han dado la vida”\n",
      "Oskar Matute explica qué piensa cuando le dicen que es de ETA y habla así de claro sobre la banda\n",
      "João ya tiene precio: 100 millones\n",
      "¿Sirve para algo el boicot personal e intransferible al Mundial de Qatar?\n",
      "Confirmados los juegos gratis de PS Plus en diciembre de 2022 para PS5 y PS4\n"
     ]
    }
   ],
   "source": [
    "for h2 in tags:\n",
    "    print(h2.text)\n",
    "    resultados.append(h2.text)"
   ]
  },
  {
   "cell_type": "markdown",
   "id": "84c07e8e",
   "metadata": {},
   "source": [
    "## Esto lo podemos replicar en diferentes secciones de El País "
   ]
  },
  {
   "cell_type": "markdown",
   "id": "b3d305eb",
   "metadata": {},
   "source": [
    "## Internacional "
   ]
  },
  {
   "cell_type": "code",
   "execution_count": 18,
   "id": "cd6d5f45",
   "metadata": {},
   "outputs": [
    {
     "name": "stdout",
     "output_type": "stream",
     "text": [
      "Rusia advierte del “enorme” riesgo de una guerra nuclear por el conflicto en Ucrania\n",
      "El historiador Serhii Plokhy: “El destino de la guerra ya está claro: Ucrania será independiente y Rusia quedará tremendamente debilitada”\n",
      "Hungría evita la confrontación con Bruselas y confía en desbloquear los fondos europeos en 2023 \n",
      "Una globalización centrada en los seres humanos\n",
      "Autocracia en crisis\n",
      "“¿De qué color es el hambre, mamá?”\n",
      "China: una protesta nacional\n",
      "Publicar no es un delito\n",
      "Bruselas promueve un tribunal especial para juzgar a la cúpula de Putin por sus crímenes en Ucrania\n",
      "Bruselas exige congelar fondos europeos a Hungría por las violaciones del Estado de derecho\n",
      "Hungría acelera las medidas anticorrupción para rebajar la magnitud del castigo europeo\n",
      "China relaja las medidas anticovid en Guangzhou para frenar nuevas protestas\n",
      "Nicolás Maduro condiciona la celebración de elecciones libres al levantamiento de sanciones \n",
      "Muere el expresidente de China Jiang Zemin\n",
      "La doble respuesta de China a las protestas: acelerar la vacunación de los mayores y descabezar las manifestaciones \n",
      "La selección del jurado popular marca el inicio del juicio por los atentados yihadistas de 2016 en Bruselas\n",
      "La OTAN redobla su alerta sobre una China en ebullición\n",
      "La tragedia de los menores en zona de guerra: 230 millones de niños viven en los conflictos más cruentos del mundo\n",
      "Macron viaja a Washington para “resincronizarse” con Biden ante el impacto de la guerra en Ucrania\n",
      "Quince periodistas e integrantes de ‘El Faro’ demandan al fabricante del software espía Pegasus \n",
      "La hija de Hugo Chávez califica de “grotesco” un video oficialista en homenaje a su padre\n",
      "Nueva York internará en psiquiátricos contra su voluntad a las personas sin hogar con trastornos mentales graves\n",
      "El líder del grupo ultraderechista Oath Keepers, culpable de sedición por el asalto al Capitolio\n",
      "Estados Unidos prepara una ley para evitar una huelga de ferrocarriles en vísperas de Navidad\n"
     ]
    }
   ],
   "source": [
    "internacional = requests.get(\"https://resultados.elpais.com/internacional\")\n",
    "# Si el estatus code no es 200 no se puede leer la página\n",
    "if (internacional.status_code != 200):\n",
    " raise Exception(\"No se puede hacer Web Scraping en\"+ URL)\n",
    "soup = BeautifulSoup(internacional.text, 'html.parser')\n",
    "\n",
    "tags = soup.findAll(\"h2\")\n",
    "for h2 in tags:\n",
    "    print(h2.text)\n",
    "    resultados.append(h2.text)"
   ]
  },
  {
   "cell_type": "markdown",
   "id": "a6e3aeb4",
   "metadata": {},
   "source": [
    "## Economía\n"
   ]
  },
  {
   "cell_type": "code",
   "execution_count": 20,
   "id": "a800b218",
   "metadata": {},
   "outputs": [
    {
     "name": "stdout",
     "output_type": "stream",
     "text": [
      "La pensión máxima subirá un 3% hasta 2050 y la cotización más alta, un 35%\n",
      "El euríbor cierra noviembre en su mayor nivel desde 2008: la cuota de los que revisen ahora su pago crecerá un 44%\n",
      "Cepsa invertirá 3.000 millones en el mayor proyecto de hidrógeno verde de Europa\n",
      "Transportes reforzará en 2023 las inspecciones para garantizar que los camioneros no trabajen a pérdidas\n",
      "Los desafíos al proceso de transición ecológica\n",
      "La moda de la sostenibilidad\n",
      "Impuesto erróneo a la banca\n",
      "Sufrimientos evitables\n",
      "El coste de la vida\n",
      "La caída de la producción frena la actividad industrial española\n",
      "La OCDE pide facilitar el despliegue de los planes de pensiones para garantizar la sostenibilidad del sistema\n",
      "Cosecha de ingresos en las constructoras y concesionarias: facturan 6.000 millones más hasta septiembre\n",
      "Arabia Saudí encarga otros cinco buques de guerra a Navantia \n",
      "Los ingresos tributarios hasta octubre ya superan lo recaudado en todo 2021\n",
      "Prisa presenta el plan para redoblar su apuesta por la sostenibilidad\n",
      "Estos picos han enamorado al chef José Andrés y están hasta en las mesas de Corea del Sur\n",
      "El BBVA gana a Merlin el arbitraje sobre la Operación Chamartín\n",
      "Breton exige a Musk que refuerce su política de moderación de contenidos y desinformación en Twitter\n",
      "Una celestina solar para instalar paneles\n",
      "España, en el podio de países de la OCDE con mayor alza de la presión fiscal en una década\n",
      "Madrid, la nueva Miami: así se han hecho con la capital los ricos latinoamericanos\n",
      "Si no tiene ahorros, esta es una de las pocas alternativas para comprar casa\n",
      "Los efectos de una economía de andar por casa\n",
      "Caballos al galope: un negocio con un impacto económico de 7.400 millones de euros\n",
      "Los impuestos que se necesitan para construir la sociedad del futuro\n",
      "Hildalgo pide más dinero por Air Europa y retrasa la venta\n",
      "Órdago de los agentes sociales a Escrivá: sin acuerdo político no negocian el cálculo de la pensión\n",
      "Telefónica estudiará nuevas medidas de ahorro ante el escenario inflacionario\n",
      "Barceló irrumpe en la venta de Hotelatelier con una oferta de 200 millones de euros\n",
      "Por primera vez un juez declara nulo un contrato de alquiler por aplicación de la perspectiva de género\n",
      "Visitas a centros de acogida y muchas horas de estudio: así se forman los jueces en materia de género\n",
      "La justicia obliga a Iberia a controlar el peso de las maletas para que los azafatos no se lesionen\n",
      "‘Phishing’, ‘malware’ o ‘ransomware’: el reto de formar en ciberseguridad tras la pandemia\n",
      "La difícil tarea de recuperar el talento investigador que un día hizo las maletas\n",
      "Descubre las formaciones de marketing ‘online’ más buscadas de 2023\n",
      "Logística de ida y vuelta, cuando la solución está en reciclar menos y reutilizar más\n",
      "Logística y digitalización, el manual de supervivencia para pymes\n",
      "Empleados satisfechos, empresas de éxito\n",
      "Diez claves del bienestar corporativo para empresas de éxito\n",
      "Las aventuras de un par de calcetines que dan empleo a todo un pueblo\n",
      "Cultura financiera como punto de partida para volver a empezar\n",
      "Cómo aplicar el ‘design thinking’ a cualquier negocio\n",
      "Las soluciones digitales que necesita mi negocio \n",
      "Alexia Putellas, un Balón de Oro a base de “esfuerzo, constancia, disciplina y saber reinventarse”\n",
      "El método Muñoz para triunfar en cada reto que se propone\n",
      "¿Por qué muchos inversores están volviendo a confiar en Japón?\n",
      "¿Por qué se está enfriando la economía china?\n",
      "No una, sino cinco ‘startups’ para la esperanza\n",
      "Si tú lo imaginas, yo te lo imprimo\n",
      "Cómo garantizar la seguridad en un mundo de amenazas híbridas\n",
      "¿Cuáles son los dilemas éticos del uso de la inteligencia artificial?\n",
      "El propósito empresarial, una seña de identidad\n",
      "Las ciudades españolas ganan en salud respecto al año pasado\n",
      "Alimentación, empresa y deporte se unen en el pódium de la competitividad\n",
      "Cómo conseguir ayudas a la digitalización para autónomos y pymes con Kit Digital\n",
      "Un brindis con vino español por la sostenibilidad, la economía y el empleo\n"
     ]
    }
   ],
   "source": [
    "economia = requests.get(\"https://resultados.elpais.com/economia\")\n",
    "# Si el estatus code no es 200 no se puede leer la página\n",
    "if (economia.status_code != 200):\n",
    " raise Exception(\"No se puede hacer Web Scraping en\"+ URL)\n",
    "soup = BeautifulSoup(economia.text, 'html.parser')\n",
    "\n",
    "tags = soup.findAll(\"h2\")\n",
    "for h2 in tags:\n",
    "    print(h2.text)\n",
    "    resultados.append(h2.text)"
   ]
  },
  {
   "cell_type": "markdown",
   "id": "e19eef60",
   "metadata": {},
   "source": [
    "## Deportes "
   ]
  },
  {
   "cell_type": "code",
   "execution_count": 25,
   "id": "eea34a69",
   "metadata": {},
   "outputs": [
    {
     "name": "stdout",
     "output_type": "stream",
     "text": [
      "Última hora\n",
      "El calendario\n",
      "Vídeo en directo\n",
      "Las predicciones\n",
      "La ‘newsletter’\n",
      "España se ve lanzada  \n",
      "Morata encuentra su paz\n",
      "Japón y el dios del pie buscan al mejor Kamada\n",
      "Sí, se puede ser feliz por una clasificación a octavos de final\n",
      "Mi tío Ricardo y la antena de la tele\n",
      "Jugar para tu país\n",
      "El mejor Messi juega, no golea \n",
      "Croacia - Bélgica: Mundial de Qatar 2022, en directo | La subcampeona del mundo se mide con la selección belga en un partido muy igualado con los octavos en juego\n",
      "Canadá - Marruecos: Mundial de Qatar 2022, en directo | Los canadienses recortan distancias antes del descanso gracias a un gol en propia puerta\n",
      "Joshua Kimmich bajo vigilancia\n",
      "Mundial de Qatar 2022, últimas noticias en directo | Dani Alves: “Poder cerrar el círculo jugando una Copa del Mundo me hace muy feliz”\n",
      "Argentina se gana los octavos \n",
      "Más dunas y más arena: el Dakar 2023 aumenta la complejidad del recorrido\n",
      "“Si Lewandowski fuera argentino, igual mete cinco”\n",
      "México se queda a un gol del pase \n",
      "Tata Martino lleva a México a su gran fracaso en el Mundial\n",
      "¡Viva mi desgracia!\n",
      "Kevin de Bruyne, entre la frustración y el miedo ante el día decisivo de Bélgica contra Croacia\n",
      "Olga Viza: “Llevé la copa del Mundial de España 82 de copiloto en mi coche con la L en el cristal”\n",
      "Túnez desnuda a los suplentes de Francia\n",
      "Última hora del Mundial de Qatar: vídeo en directo | Qatar en Juego\n",
      "¿Volverá Benzema al Mundial de Qatar tras su lesión?\n",
      "¿Morata o Asensio? dos cromos muy diferentes para la misma posición\n",
      "La moneda que cambió para siempre el destino de España en los Mundiales\n",
      "Cómo no perderte ni un solo minuto del Mundial\n",
      "Las promesas del baloncesto español piden consejo a Sergio Scariolo\n",
      "A toda mecha hacia el mundial de la consagración\n",
      "Cómo disfrutar de la montaña con todas las garantías\n",
      "Y una tarde, los argentinos recuperaron la alegría\n",
      "Un Mundial de ida y vuelta con Caparrós y Villoro\n",
      "¡Viva mi desgracia!\n",
      "México se queda a un gol del pase \n",
      "Tata Martino lleva a México a su gran fracaso en el Mundial\n",
      "El mejor Messi juega, no golea \n",
      "Los vídeos de los goles y el resumen de la jornada 11 del Mundial de Qatar 2022\n",
      "Argentina se gana los octavos \n"
     ]
    }
   ],
   "source": [
    "deportes = requests.get(\"https://resultados.elpais.com/deportes\")\n",
    "# Si el estatus code no es 200 no se puede leer la página\n",
    "if (deportes.status_code != 200):\n",
    " raise Exception(\"No se puede hacer Web Scraping en\"+ URL)\n",
    "soup = BeautifulSoup(deportes.text, 'html.parser')\n",
    "\n",
    "tags = soup.findAll(\"h2\")\n",
    "for h2 in tags:\n",
    "    print(h2.text)\n",
    "    resultados.append(h2.text)"
   ]
  }
 ],
 "metadata": {
  "kernelspec": {
   "display_name": "Python 3 (ipykernel)",
   "language": "python",
   "name": "python3"
  },
  "language_info": {
   "codemirror_mode": {
    "name": "ipython",
    "version": 3
   },
   "file_extension": ".py",
   "mimetype": "text/x-python",
   "name": "python",
   "nbconvert_exporter": "python",
   "pygments_lexer": "ipython3",
   "version": "3.9.13"
  }
 },
 "nbformat": 4,
 "nbformat_minor": 5
}
